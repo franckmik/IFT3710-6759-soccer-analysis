{
 "cells": [
  {
   "cell_type": "code",
   "execution_count": null,
   "id": "5f029a3a-1021-4785-baad-ca746e0379cc",
   "metadata": {},
   "outputs": [],
   "source": [
    "%load_ext autoreload\n",
    "%autoreload 2"
   ]
  },
  {
   "cell_type": "code",
   "execution_count": null,
   "id": "66ad038a-90c5-4558-b14e-7a9790c85c30",
   "metadata": {},
   "outputs": [],
   "source": [
    "import sys\n",
    "import os"
   ]
  },
  {
   "cell_type": "code",
   "execution_count": null,
   "id": "c98971b7-723a-4d53-9c27-2f699cebce8f",
   "metadata": {},
   "outputs": [],
   "source": [
    "from data_utils import get_data_for_global_evaluation\n",
    "from global_model import GlobalModel"
   ]
  },
  {
   "cell_type": "code",
   "execution_count": null,
   "id": "0e3bf4d0-b499-4c1b-b3bc-0ebffdad0745",
   "metadata": {},
   "outputs": [],
   "source": [
    "image_paths, labels = get_data_for_global_evaluation(\"dataset/train/\")"
   ]
  },
  {
   "cell_type": "code",
   "execution_count": null,
   "id": "ac6e0051-64fc-4319-a5f6-4442fae3d0d8",
   "metadata": {},
   "outputs": [],
   "source": [
    "print(len(image_paths))\n",
    "image_paths[38460:]"
   ]
  },
  {
   "cell_type": "code",
   "execution_count": null,
   "id": "64f98aa8-7fb8-4624-a924-49c2e78d39cf",
   "metadata": {},
   "outputs": [],
   "source": [
    "gm = GlobalModel()\n",
    "\n",
    "gm.predict(image_paths[38460:])"
   ]
  },
  {
   "cell_type": "code",
   "execution_count": null,
   "id": "fa74b287-d811-4a5c-872f-9714297d4624",
   "metadata": {},
   "outputs": [],
   "source": []
  }
 ],
 "metadata": {
  "kernelspec": {
   "display_name": ".venv",
   "language": "python",
   "name": ".venv"
  },
  "language_info": {
   "codemirror_mode": {
    "name": "ipython",
    "version": 3
   },
   "file_extension": ".py",
   "mimetype": "text/x-python",
   "name": "python",
   "nbconvert_exporter": "python",
   "pygments_lexer": "ipython3",
   "version": "3.12.4"
  }
 },
 "nbformat": 4,
 "nbformat_minor": 5
}
