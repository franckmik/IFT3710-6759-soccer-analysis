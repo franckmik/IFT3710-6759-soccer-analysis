{
 "cells": [
  {
   "cell_type": "code",
   "execution_count": null,
   "id": "d1eca6c2-1166-434c-82da-504407b327e7",
   "metadata": {},
   "outputs": [],
   "source": [
    "%load_ext autoreload\n",
    "%autoreload 2"
   ]
  },
  {
   "cell_type": "code",
   "execution_count": null,
   "id": "0aafe4f0-9fd8-4eff-8068-f671e845a950",
   "metadata": {},
   "outputs": [],
   "source": [
    "from data_utils import get_data\n",
    "from vae import VAE\n",
    "import os\n",
    "import numpy as np\n",
    "import torch"
   ]
  },
  {
   "cell_type": "code",
   "execution_count": null,
   "id": "ffdc92fd-5b10-43a4-a6a7-eddbfd95788d",
   "metadata": {},
   "outputs": [],
   "source": [
    "# Extraire les images et les labels\n",
    "images, labels = [], []\n",
    "\n",
    "events = ['cards', \n",
    "          #'center'\n",
    "          #'free-kick'\n",
    "         ]\n",
    "\n",
    "train_images, train_labels = get_data(folder='train', events=events)"
   ]
  },
  {
   "cell_type": "code",
   "execution_count": null,
   "id": "eefc8842-300e-4313-8200-64bd0d66d98c",
   "metadata": {},
   "outputs": [],
   "source": [
    "vae = VAE()\n",
    "\n",
    "print('input shape')\n",
    "print(train_images[:2].shape)\n",
    "vae(train_images[:2])"
   ]
  },
  {
   "cell_type": "code",
   "execution_count": null,
   "id": "2a62810e-9da8-47a2-bf7d-bd9fa0eb1002",
   "metadata": {},
   "outputs": [],
   "source": []
  }
 ],
 "metadata": {
  "kernelspec": {
   "display_name": ".venv",
   "language": "python",
   "name": ".venv"
  },
  "language_info": {
   "codemirror_mode": {
    "name": "ipython",
    "version": 3
   },
   "file_extension": ".py",
   "mimetype": "text/x-python",
   "name": "python",
   "nbconvert_exporter": "python",
   "pygments_lexer": "ipython3",
   "version": "3.12.4"
  }
 },
 "nbformat": 4,
 "nbformat_minor": 5
}
