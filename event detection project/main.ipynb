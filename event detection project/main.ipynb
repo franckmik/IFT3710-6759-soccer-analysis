{
 "cells": [
  {
   "cell_type": "code",
   "execution_count": 9,
   "id": "d1eca6c2-1166-434c-82da-504407b327e7",
   "metadata": {},
   "outputs": [
    {
     "name": "stdout",
     "output_type": "stream",
     "text": [
      "The autoreload extension is already loaded. To reload it, use:\n",
      "  %reload_ext autoreload\n"
     ]
    }
   ],
   "source": [
    "%load_ext autoreload\n",
    "%autoreload 2"
   ]
  },
  {
   "cell_type": "code",
   "execution_count": 10,
   "id": "0aafe4f0-9fd8-4eff-8068-f671e845a950",
   "metadata": {},
   "outputs": [],
   "source": [
    "from data_utils import get_data\n",
    "import os\n",
    "import numpy as np"
   ]
  },
  {
   "cell_type": "code",
   "execution_count": 11,
   "id": "ffdc92fd-5b10-43a4-a6a7-eddbfd95788d",
   "metadata": {},
   "outputs": [],
   "source": [
    "# Extraire les images et les labels\n",
    "images, labels = [], []\n",
    "\n",
    "events = ['cards', \n",
    "          'center'\n",
    "          #'free-kick'\n",
    "         ]\n",
    "\n",
    "train_images, train_labels = get_data(folder='train', events=events)"
   ]
  },
  {
   "cell_type": "code",
   "execution_count": null,
   "id": "948b7854-97df-4127-9cc6-07c795500e27",
   "metadata": {},
   "outputs": [],
   "source": [
    "print(train_images[0])\n",
    "print(train_labels[0])"
   ]
  }
 ],
 "metadata": {
  "kernelspec": {
   "display_name": ".venv",
   "language": "python",
   "name": ".venv"
  },
  "language_info": {
   "codemirror_mode": {
    "name": "ipython",
    "version": 3
   },
   "file_extension": ".py",
   "mimetype": "text/x-python",
   "name": "python",
   "nbconvert_exporter": "python",
   "pygments_lexer": "ipython3",
   "version": "3.12.4"
  }
 },
 "nbformat": 4,
 "nbformat_minor": 5
}
