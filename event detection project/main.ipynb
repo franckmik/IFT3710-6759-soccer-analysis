{
 "cells": [
  {
   "cell_type": "code",
   "execution_count": null,
   "id": "5f029a3a-1021-4785-baad-ca746e0379cc",
   "metadata": {},
   "outputs": [],
   "source": [
    "%load_ext autoreload\n",
    "%autoreload 2"
   ]
  },
  {
   "cell_type": "code",
   "execution_count": null,
   "id": "66ad038a-90c5-4558-b14e-7a9790c85c30",
   "metadata": {},
   "outputs": [],
   "source": [
    "import sys\n",
    "import os\n",
    "import torch"
   ]
  },
  {
   "cell_type": "code",
   "execution_count": null,
   "id": "c98971b7-723a-4d53-9c27-2f699cebce8f",
   "metadata": {},
   "outputs": [],
   "source": [
    "from data_utils import get_data_for_global_evaluation\n",
    "from global_model import GlobalModel\n",
    "from evaluate_script import evaluate_on_test_dataset"
   ]
  },
  {
   "cell_type": "markdown",
   "id": "0c2df594-14a2-4241-9369-3d27c54dffe3",
   "metadata": {},
   "source": [
    "# Global model evaluation"
   ]
  },
  {
   "cell_type": "code",
   "execution_count": null,
   "id": "fa74b287-d811-4a5c-872f-9714297d4624",
   "metadata": {
    "scrolled": true
   },
   "outputs": [],
   "source": [
    "model = GlobalModel(device=torch.device(\"cuda:0\" if torch.cuda.is_available() else \"cpu\"))\n",
    "\n",
    "# Évaluer sur l'ensemble de test\n",
    "#test_dir = \"dataset/new_test\"\n",
    "test_dir = \"dataset/test\"\n",
    "\n",
    "results = evaluate_on_test_dataset(model, test_dir)"
   ]
  },
  {
   "cell_type": "code",
   "execution_count": null,
   "id": "01721306-99cd-408b-b48e-25c6c09efb9b",
   "metadata": {},
   "outputs": [],
   "source": []
  },
  {
   "cell_type": "code",
   "execution_count": null,
   "id": "444cfe59-f5ad-4b14-b03c-593efbe19f58",
   "metadata": {},
   "outputs": [],
   "source": []
  }
 ],
 "metadata": {
  "kernelspec": {
   "display_name": ".venv",
   "language": "python",
   "name": ".venv"
  },
  "language_info": {
   "codemirror_mode": {
    "name": "ipython",
    "version": 3
   },
   "file_extension": ".py",
   "mimetype": "text/x-python",
   "name": "python",
   "nbconvert_exporter": "python",
   "pygments_lexer": "ipython3",
   "version": "3.12.4"
  }
 },
 "nbformat": 4,
 "nbformat_minor": 5
}
