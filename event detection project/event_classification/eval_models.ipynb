{
 "cells": [
  {
   "cell_type": "code",
   "execution_count": null,
   "metadata": {
    "colab": {
     "base_uri": "https://localhost:8080/"
    },
    "executionInfo": {
     "elapsed": 23482,
     "status": "ok",
     "timestamp": 1746037403719,
     "user": {
      "displayName": "johan bell",
      "userId": "09766181410019007092"
     },
     "user_tz": 240
    },
    "id": "aGlGYJR3aNrf",
    "outputId": "34fd7f5f-3197-43c3-c13d-1600ad801360"
   },
   "outputs": [
    {
     "name": "stdout",
     "output_type": "stream",
     "text": [
      "Mounted at /content/drive\n"
     ]
    }
   ],
   "source": [
    "import os\n",
    "from pathlib import Path\n",
    "from IPython.display import display\n",
    "import ipywidgets as widgets\n",
    "\n",
    "# Widget-based path \n",
    "test_path = widgets.Text(\n",
    "    value='./data/test',  # Default value\n",
    "    placeholder='Enter test dataset path',\n",
    "    description='Train Path:'\n",
    ")\n",
    "display(test_path)\n",
    "test_dir = Path(test_path.value).expanduser().resolve()\n",
    "\n",
    "if not test_dir.exists():\n",
    "    raise ValueError(f\"Test path{test_dir} does not exist!\")"
   ]
  },
  {
   "cell_type": "code",
   "execution_count": null,
   "metadata": {
    "executionInfo": {
     "elapsed": 77689,
     "status": "ok",
     "timestamp": 1746037481412,
     "user": {
      "displayName": "johan bell",
      "userId": "09766181410019007092"
     },
     "user_tz": 240
    },
    "id": "XBgbHhBeagvw"
   },
   "outputs": [],
   "source": [
    "from my_module import SoccerEventDataset,SoccerEventClassifier,evaluate_model,SoccerEventClassifierV2\n",
    "from torchvision.transforms import transforms\n",
    "test_transform= transforms.Compose([\n",
    "      transforms.Resize((224,224)),\n",
    "      transforms.ToTensor(),\n",
    "      transforms.Normalize([.485,.456,.406],[.229,.224,.225])\n",
    "     ])\n",
    "test_data = SoccerEventDataset(root_dir=test_dir, transform=test_transform)"
   ]
  },
  {
   "cell_type": "code",
   "execution_count": 3,
   "metadata": {
    "executionInfo": {
     "elapsed": 4,
     "status": "ok",
     "timestamp": 1746037481421,
     "user": {
      "displayName": "johan bell",
      "userId": "09766181410019007092"
     },
     "user_tz": 240
    },
    "id": "r51BpTCablLy"
   },
   "outputs": [],
   "source": [
    "\n",
    "from torch.utils.data import DataLoader\n",
    "test_loader= DataLoader(test_data,batch_size=32,shuffle=False)"
   ]
  },
  {
   "cell_type": "code",
   "execution_count": 4,
   "metadata": {
    "colab": {
     "base_uri": "https://localhost:8080/",
     "height": 35
    },
    "executionInfo": {
     "elapsed": 9,
     "status": "ok",
     "timestamp": 1746037481434,
     "user": {
      "displayName": "johan bell",
      "userId": "09766181410019007092"
     },
     "user_tz": 240
    },
    "id": "m5iknv-wdiep",
    "outputId": "1172fe50-89b2-4431-a22d-be30bf19e27e"
   },
   "outputs": [
    {
     "data": {
      "application/vnd.google.colaboratory.intrinsic+json": {
       "type": "string"
      },
      "text/plain": [
       "'cuda'"
      ]
     },
     "execution_count": 4,
     "metadata": {},
     "output_type": "execute_result"
    }
   ],
   "source": [
    "\n",
    "import torch\n",
    "device='cuda' if torch.cuda.is_available() else 'cpu'\n",
    "device"
   ]
  },
  {
   "cell_type": "code",
   "execution_count": 5,
   "metadata": {
    "colab": {
     "base_uri": "https://localhost:8080/"
    },
    "executionInfo": {
     "elapsed": 256132,
     "status": "ok",
     "timestamp": 1746037737570,
     "user": {
      "displayName": "johan bell",
      "userId": "09766181410019007092"
     },
     "user_tz": 240
    },
    "id": "EdlydwAPg81V",
    "outputId": "372e9e76-e8a2-457a-88c3-bc3e3e0d71d0"
   },
   "outputs": [
    {
     "name": "stderr",
     "output_type": "stream",
     "text": [
      "Downloading: \"https://download.pytorch.org/models/efficientnet_b0_rwightman-7f5810bc.pth\" to /root/.cache/torch/hub/checkpoints/efficientnet_b0_rwightman-7f5810bc.pth\n",
      "100%|██████████| 20.5M/20.5M [00:00<00:00, 130MB/s] \n"
     ]
    },
    {
     "name": "stdout",
     "output_type": "stream",
     "text": [
      "test accuracy: 0.8784\n",
      "\n",
      " Classification Report: \n",
      "              precision    recall  f1-score   support\n",
      "\n",
      "       Cards       0.99      0.78      0.88       500\n",
      "      Center       0.95      1.00      0.97       500\n",
      "      Corner       0.93      0.99      0.96       500\n",
      "   Free-Kick       0.79      0.68      0.73       500\n",
      "        Left       0.81      0.90      0.86       500\n",
      "     Penalty       0.99      0.78      0.87       500\n",
      "       Right       0.70      0.99      0.82       500\n",
      "      Tackle       0.97      0.78      0.87       500\n",
      " To-Subtitue       0.88      1.00      0.94       500\n",
      "\n",
      "    accuracy                           0.88      4500\n",
      "   macro avg       0.89      0.88      0.88      4500\n",
      "weighted avg       0.89      0.88      0.88      4500\n",
      "\n",
      "\n",
      " confusion Matrix:\n",
      "[[391   0  24  11   0   0   3  11  60]\n",
      " [  0 498   0   0   1   0   1   0   0]\n",
      " [  0   0 495   2   0   0   1   0   2]\n",
      " [  2   0   2 340  63   0  93   0   0]\n",
      " [  0   1   0  44 452   3   0   0   0]\n",
      " [  0   0   0   0  27 391  82   0   0]\n",
      " [  0   0   0   3   1   0 496   0   0]\n",
      " [  0  25  11  29  12   0  28 392   3]\n",
      " [  0   0   2   0   0   0   0   0 498]]\n"
     ]
    },
    {
     "data": {
      "text/plain": [
       "0.8784444444444445"
      ]
     },
     "execution_count": 5,
     "metadata": {},
     "output_type": "execute_result"
    }
   ],
   "source": [
    "model= SoccerEventClassifier().to(device)\n",
    "model.load_state_dict(torch.load('/content/drive/MyDrive/FootballAnalysis/Classification-models/best_model_v4.pth'))\n",
    "evaluate_model(model=model,test_loader=test_loader,device=device)"
   ]
  },
  {
   "cell_type": "code",
   "execution_count": null,
   "metadata": {
    "id": "bo_ZQoDv73OP"
   },
   "outputs": [],
   "source": []
  }
 ],
 "metadata": {
  "accelerator": "GPU",
  "colab": {
   "authorship_tag": "ABX9TyPU+p5lT6fTJqhZvVIIWF/v",
   "gpuType": "L4",
   "provenance": []
  },
  "kernelspec": {
   "display_name": "Python 3",
   "name": "python3"
  },
  "language_info": {
   "name": "python"
  }
 },
 "nbformat": 4,
 "nbformat_minor": 0
}
