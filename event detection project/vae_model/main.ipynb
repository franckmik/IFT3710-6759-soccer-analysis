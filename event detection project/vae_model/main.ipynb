{
 "cells": [
  {
   "cell_type": "code",
   "execution_count": null,
   "id": "d1eca6c2-1166-434c-82da-504407b327e7",
   "metadata": {},
   "outputs": [],
   "source": [
    "%load_ext autoreload\n",
    "%autoreload 2"
   ]
  },
  {
   "cell_type": "code",
   "execution_count": null,
   "id": "0aafe4f0-9fd8-4eff-8068-f671e845a950",
   "metadata": {},
   "outputs": [],
   "source": [
    "from data_utils import get_data\n",
    "from vae import VAE\n",
    "import os\n",
    "import numpy as np\n",
    "import torch"
   ]
  },
  {
   "cell_type": "code",
   "execution_count": null,
   "id": "ffdc92fd-5b10-43a4-a6a7-eddbfd95788d",
   "metadata": {},
   "outputs": [],
   "source": [
    "# Extraire les images et les labels\n",
    "images, labels = [], []\n",
    "\n",
    "events = [\n",
    "          #'Cards',\n",
    "          #'Center'\n",
    "    \n",
    "          #'Free-Kick',\n",
    "          #'To Subtitue',\n",
    "          'Corner',\n",
    "          'Penalty',\n",
    "          #'Red-Cards',\n",
    "          #'Tackle',\n",
    "          #'Yellow-Cards'\n",
    "         ]\n",
    "\n",
    "train_images, train_labels = get_data(folder='train', events=events)"
   ]
  },
  {
   "cell_type": "code",
   "execution_count": null,
   "id": "2c906f66-bbbf-4d09-a748-b264b4778308",
   "metadata": {},
   "outputs": [],
   "source": [
    "train_images.shape"
   ]
  },
  {
   "cell_type": "code",
   "execution_count": null,
   "id": "6cf11b5d-a385-4b91-b9d1-63e358a1bd25",
   "metadata": {},
   "outputs": [],
   "source": [
    "vae_instance = VAE()\n",
    "\n",
    "r_imgs = vae_instance(train_images[:2])\n",
    "\n",
    "print(r_imgs[0].shape)"
   ]
  },
  {
   "cell_type": "code",
   "execution_count": null,
   "id": "0f4d39d5-6fac-477d-91d7-378ff4587177",
   "metadata": {},
   "outputs": [],
   "source": [
    "r_imgs[0].shape[0]"
   ]
  },
  {
   "cell_type": "code",
   "execution_count": null,
   "id": "2a62810e-9da8-47a2-bf7d-bd9fa0eb1002",
   "metadata": {
    "scrolled": true
   },
   "outputs": [],
   "source": [
    "import torch.optim as optim\n",
    "import torch.utils.data as data\n",
    "import torch\n",
    "import matplotlib.pyplot as plt\n",
    "from vae import recon_loss, vae_loss\n",
    "\n",
    "# Chargement des données\n",
    "train_dataset = train_images\n",
    "train_loader = data.DataLoader(train_dataset, batch_size=32, shuffle=True)\n",
    "\n",
    "# Initialisation du modèle et de l'optimiseur\n",
    "device = torch.device(\"cuda\" if torch.cuda.is_available() else \"cpu\")\n",
    "vae_instance = VAE().to(device)\n",
    "optimizer = optim.Adam(vae_instance.parameters(), lr=1e-3)\n",
    "\n",
    "# Variables pour suivre les pertes\n",
    "num_epochs = 3\n",
    "loss_history = []\n",
    "recon_loss_history = []\n",
    "\n",
    "# Entraînement\n",
    "vae_instance.train()\n",
    "for epoch in range(num_epochs):\n",
    "    total_loss = 0\n",
    "    total_recon_loss = 0\n",
    "\n",
    "    for imgs in train_loader:\n",
    "        imgs = imgs.to(device)\n",
    "        optimizer.zero_grad()\n",
    "        \n",
    "        # Forward pass\n",
    "        recon_imgs, mu, logvar = vae_instance(imgs)\n",
    "        \n",
    "        # Calcul des pertes\n",
    "        loss = vae_loss(recon_imgs, imgs, mu, logvar)\n",
    "        r_loss = recon_loss(recon_imgs, imgs)\n",
    "        \n",
    "        # Backpropagation\n",
    "        loss.backward()\n",
    "        optimizer.step()\n",
    "\n",
    "        total_loss += loss.item()\n",
    "        total_recon_loss += r_loss.item()\n",
    "\n",
    "    # Moyenne des pertes par batch\n",
    "    avg_loss = total_loss / len(train_dataset)\n",
    "    avg_recon_loss = total_recon_loss / len(train_dataset)\n",
    "\n",
    "    loss_history.append(avg_loss)\n",
    "    recon_loss_history.append(avg_recon_loss)\n",
    "\n",
    "    print(f\"Epoch [{epoch+1}/{num_epochs}], Loss: {avg_loss:.4f}, Recon Loss: {avg_recon_loss:.4f}\")\n",
    "\n",
    "# Affichage du graphique\n",
    "plt.figure(figsize=(10, 5))\n",
    "plt.plot(range(1, num_epochs + 1), loss_history, label=\"Reconstruction + KL Loss\", marker=\"o\")\n",
    "plt.plot(range(1, num_epochs + 1), recon_loss_history, label=\"Reconstruction Loss\", marker=\"s\")\n",
    "plt.xlabel(\"Epochs\")\n",
    "plt.ylabel(\"Loss\")\n",
    "plt.title(\"VAE Training Loss Evolution\")\n",
    "plt.legend()\n",
    "plt.grid()\n",
    "plt.show()"
   ]
  },
  {
   "cell_type": "code",
   "execution_count": null,
   "id": "fcb26f2d-2e4d-4110-bb3a-1cd1e9938553",
   "metadata": {},
   "outputs": [],
   "source": [
    "# threshold VAE loss: the value of 328 as the threshold for the loss gives the best distinction between categories\n",
    "\n",
    "# the images of seven events(corner ok, penalty ok, free kick ok, red card, yellow card, tackle ok, substitute) defined from \n",
    "# the SEV dataset are selected and given to the VAE\n",
    "# network as training data"
   ]
  }
 ],
 "metadata": {
  "kernelspec": {
   "display_name": ".venv",
   "language": "python",
   "name": ".venv"
  },
  "language_info": {
   "codemirror_mode": {
    "name": "ipython",
    "version": 3
   },
   "file_extension": ".py",
   "mimetype": "text/x-python",
   "name": "python",
   "nbconvert_exporter": "python",
   "pygments_lexer": "ipython3",
   "version": "3.12.4"
  }
 },
 "nbformat": 4,
 "nbformat_minor": 5
}
